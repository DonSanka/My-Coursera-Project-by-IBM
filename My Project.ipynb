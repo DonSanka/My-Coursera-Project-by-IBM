{
  "metadata": {
    "kernelspec": {
      "name": "python",
      "display_name": "Python (Pyodide)",
      "language": "python"
    },
    "language_info": {
      "codemirror_mode": {
        "name": "python",
        "version": 3
      },
      "file_extension": ".py",
      "mimetype": "text/x-python",
      "name": "python",
      "nbconvert_exporter": "python",
      "pygments_lexer": "ipython3",
      "version": "3.8"
    }
  },
  "nbformat_minor": 4,
  "nbformat": 4,
  "cells": [
    {
      "cell_type": "markdown",
      "source": "# My Project",
      "metadata": {}
    },
    {
      "cell_type": "markdown",
      "source": "## In this project i will create a jupyterlite notebook ,do the excercises and publish in my github public link",
      "metadata": {}
    },
    {
      "cell_type": "markdown",
      "source": "### The three data science languages are \n\n### 1.Python\n### 2.R \n### 3.SQL",
      "metadata": {}
    },
    {
      "cell_type": "markdown",
      "source": "#### Data science libraries are \n\n#### 1.Pandas \n#### 2.NumPy \n#### 3.Tensorflow",
      "metadata": {}
    },
    {
      "cell_type": "markdown",
      "source": "#### Data science tools are\n\n#### 1.Jupyter Notebook\n\n#### 2.Github\n\n#### 3.SQL Database",
      "metadata": {}
    },
    {
      "cell_type": "markdown",
      "source": "#####  $5 + 7 = 12 $ ",
      "metadata": {}
    },
    {
      "cell_type": "code",
      "source": "a = 3\nb = 4\n\nprint( a + b )",
      "metadata": {
        "trusted": true
      },
      "outputs": [
        {
          "name": "stdout",
          "text": "7\n",
          "output_type": "stream"
        }
      ],
      "execution_count": 15
    },
    {
      "cell_type": "code",
      "source": "minutes = 60\n\nhours = 60/60\n\nprint(hours)",
      "metadata": {
        "trusted": true
      },
      "outputs": [
        {
          "name": "stdout",
          "text": "1.0\n",
          "output_type": "stream"
        }
      ],
      "execution_count": 14
    },
    {
      "cell_type": "markdown",
      "source": "#### Exercise 2 - Create a markdown cell with the title of the notebook. (1 pt)\n\n#### Exercise 3 - Create a markdown cell for an introduction. (1 pt)\n\n#### Exercise 4 - Create a markdown cell to list data science languages. (3 pts)\n\n#### Exercise 5 - Create a markdown cell to list data science libraries. (3 pts)\n\n#### Exercise 6 - Create a markdown cell with a table of Data Science tools. (3 pts)\n\n#### Exercise 7 - Create a markdown cell introducing arithmetic expression examples. (1 pt)\n\n#### Exercise 8 - Create a code cell to multiply and add numbers. (2 pts)\n\n#### Exercise 9 - Create a code cell to convert minutes to hours. (2 pts)",
      "metadata": {}
    },
    {
      "cell_type": "markdown",
      "source": "##### Author - A W D Sanka",
      "metadata": {}
    },
    {
      "cell_type": "code",
      "source": "",
      "metadata": {
        "trusted": true
      },
      "outputs": [],
      "execution_count": null
    }
  ]
}